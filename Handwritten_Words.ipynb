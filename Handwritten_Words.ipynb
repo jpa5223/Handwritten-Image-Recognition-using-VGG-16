{
 "cells": [
  {
   "cell_type": "code",
   "execution_count": 1,
   "metadata": {},
   "outputs": [],
   "source": [
    "import cv2\n",
    "import pytesseract\n",
    "from pytesseract import Output\n",
    "import pandas as pd\n",
    "import numpy as np\n",
    "import glob\n",
    "from multiprocessing import Pool\n",
    "import time\n",
    "\n",
    "image_directory = \"/Users/alidali/Downloads/818027_1400106_bundle_archive/train_v2/train/*.jpg\"\n",
    "\n",
    "def get_images_and_directory(image_directory):\n",
    "    print('getting images...')\n",
    "    start = time.time()\n",
    "    images = []\n",
    "    #directory = []\n",
    "    for img in glob.glob(image_directory):\n",
    "        n= cv2.imread(img)\n",
    "        d = f'{img[70:]}'\n",
    "        images.append([n,d])\n",
    "        #directory.append(d)\n",
    "    end = time.time()\n",
    "    print(f'Run Time: {end-start}')\n",
    "    return images\n",
    "\n",
    "\n",
    "def scrape_image_data_to_df(images_list):\n",
    "    print('Entered Pool Succesfully...')\n",
    "    total_features = []\n",
    "    images = []\n",
    "    directories = []\n",
    "    print('Spliting Images and Directories...')\n",
    "    for i, j in images_list:\n",
    "        images.append(i)\n",
    "        directories.append(j)\n",
    "    print('Splitted successfully...')\n",
    "    count = 1\n",
    "    directory_index = 0\n",
    "    print('getting image data....')\n",
    "    for image in images:\n",
    "        directory = directories[directory_index]\n",
    "        img_data = pytesseract.image_to_data(image, output_type=Output.DICT)\n",
    "        total_boxes = len(img_data['text'])\n",
    "        box_list = []\n",
    "        sequence_list = []\n",
    "        for i in range(total_boxes):\n",
    "            if int(img_data['conf'][i]) > 0:\n",
    "                (x ,y, w, h) = (img_data['left'][i]-4, img_data['top'][i]-4, img_data['width'][i]+8,  img_data['height'][i]+8)\n",
    "                box_list.append((x,y,w,h))\n",
    "                try:\n",
    "                    index_num = i\n",
    "                    features = {'Directory': directory,\n",
    "                        'Image_Count': count,\n",
    "                        'X':x,\n",
    "                        'Y':y,\n",
    "                        'W':w,\n",
    "                        'H':h, \n",
    "                        'Confidence':img_data['conf'][index_num],\n",
    "                        'Text':img_data['text'][index_num]}\n",
    "                    total_features.append(features)\n",
    "                    count+=1\n",
    "                except:\n",
    "                    pass\n",
    "        directory_index += 1\n",
    "    \n",
    "    print('getting dataframe....')\n",
    "    df = pd.DataFrame(total_features)\n",
    "    return df\n",
    "\n",
    "\n",
    "\n",
    "def parallelize_dataframe(df, func, n_cores=6):\n",
    "    start = time.time()\n",
    "    print('starting...')\n",
    "    df_split = np.array_split(df, n_cores)\n",
    "    pool = Pool(n_cores)\n",
    "    print('Entering pool....')\n",
    "    df = pd.concat(pool.map(func, df_split))\n",
    "    pool.close()\n",
    "    pool.join()\n",
    "    end = time.time()\n",
    "    print(f'ending...Time: {end - start}')\n",
    "    return df"
   ]
  },
  {
   "cell_type": "code",
   "execution_count": 3,
   "metadata": {},
   "outputs": [
    {
     "name": "stdout",
     "output_type": "stream",
     "text": [
      "getting images...\n",
      "Run Time: 237.49070286750793\n"
     ]
    }
   ],
   "source": [
    "images = get_images_and_directory(image_directory)"
   ]
  },
  {
   "cell_type": "code",
   "execution_count": 4,
   "metadata": {},
   "outputs": [
    {
     "name": "stdout",
     "output_type": "stream",
     "text": [
      "starting...\n",
      "Entering pool....\n",
      "Entered Pool Succesfully...\n",
      "Spliting Images and Directories...\n",
      "Splitted successfully...\n",
      "getting image data....\n",
      "Entered Pool Succesfully...\n",
      "Spliting Images and Directories...\n",
      "Splitted successfully...\n",
      "getting image data....\n",
      "Entered Pool Succesfully...\n",
      "Spliting Images and Directories...\n",
      "Splitted successfully...\n",
      "getting image data....\n",
      "Entered Pool Succesfully...\n",
      "Spliting Images and Directories...\n",
      "Splitted successfully...\n",
      "getting image data....\n",
      "Entered Pool Succesfully...\n",
      "Spliting Images and Directories...\n",
      "Splitted successfully...\n",
      "getting image data....\n",
      "Entered Pool Succesfully...\n",
      "Spliting Images and Directories...\n",
      "Splitted successfully...\n",
      "getting image data....\n",
      "getting dataframe....\n",
      "getting dataframe....\n",
      "getting dataframe....\n",
      "getting dataframe....\n",
      "getting dataframe....\n",
      "getting dataframe....\n",
      "ending...Time: 26209.768639087677\n"
     ]
    }
   ],
   "source": [
    "df = parallelize_dataframe(images,scrape_image_data_to_df, n_cores=6)\n",
    "df.to_csv('Train_processed_final.csv')"
   ]
  },
  {
   "cell_type": "code",
   "execution_count": 8,
   "metadata": {},
   "outputs": [],
   "source": [
    "ground_truth = pd.read_csv('/Users/alidali/Downloads/818027_1400106_bundle_archive/written_name_train_v2.csv')"
   ]
  },
  {
   "cell_type": "code",
   "execution_count": 38,
   "metadata": {},
   "outputs": [],
   "source": [
    "masters = pd.merge(df, ground_truth,how = 'left', left_on = 'Directory', right_on='FILENAME', sort= True) "
   ]
  },
  {
   "cell_type": "code",
   "execution_count": 40,
   "metadata": {},
   "outputs": [],
   "source": [
    "masters = masters.drop(['FILENAME'], axis = 1)"
   ]
  },
  {
   "cell_type": "code",
   "execution_count": 43,
   "metadata": {},
   "outputs": [],
   "source": [
    "masters['Text'] = masters['Text'].str.upper()"
   ]
  },
  {
   "cell_type": "code",
   "execution_count": 44,
   "metadata": {},
   "outputs": [],
   "source": [
    "correct_df = masters[masters['Text']== masters['IDENTITY']]"
   ]
  },
  {
   "cell_type": "code",
   "execution_count": 52,
   "metadata": {},
   "outputs": [],
   "source": [
    "correct_df.to_csv('HW_dt.csv')"
   ]
  },
  {
   "cell_type": "code",
   "execution_count": 48,
   "metadata": {},
   "outputs": [],
   "source": [
    "incorrect_df = masters[masters['Directory'].isin(correct_df['Directory'])]"
   ]
  },
  {
   "cell_type": "code",
   "execution_count": 50,
   "metadata": {},
   "outputs": [],
   "source": [
    "incorrect_df = incorrect_df[incorrect_df['Text']!= incorrect_df['IDENTITY']]"
   ]
  },
  {
   "cell_type": "code",
   "execution_count": 54,
   "metadata": {},
   "outputs": [],
   "source": [
    "incorrect_df.to_csv('NonHW_dt.csv')"
   ]
  },
  {
   "cell_type": "code",
   "execution_count": null,
   "metadata": {},
   "outputs": [],
   "source": [
    "# 1. From HW_dt and NonHW_dt, get the subimages using the coordinates.\n",
    "# 2. DO it before splitting the images\n",
    "# 3. \n",
    "\n",
    "def scrape_image_data_to_df(images_list):\n",
    "    print('Entered Pool Succesfully...')\n",
    "    total_features = []\n",
    "    images = []\n",
    "    directories = []\n",
    "    print('Spliting Images and Directories...')\n",
    "    for i, j in images_list:\n",
    "        images.append(i)\n",
    "        directories.append(j)\n",
    "    print('Splitted successfully...')\n",
    "    count = 1\n",
    "    directory_index = 0\n",
    "    print('getting image data....')\n",
    "    for image in images:\n",
    "        directory = directories[directory_index]\n",
    "        img_data = pytesseract.image_to_data(image, output_type=Output.DICT)\n",
    "        total_boxes = len(img_data['text'])\n",
    "        box_list = []\n",
    "        sequence_list = []\n",
    "        for i in range(total_boxes):\n",
    "            if int(img_data['conf'][i]) > 0:\n",
    "                (x ,y, w, h) = (img_data['left'][i]-4, img_data['top'][i]-4, img_data['width'][i]+8,  img_data['height'][i]+8)\n",
    "                box_list.append((x,y,w,h))\n",
    "                try:\n",
    "                    index_num = i\n",
    "                    features = {'Directory': directory,\n",
    "                        'Image_Count': count,\n",
    "                        'X':x,\n",
    "                        'Y':y,\n",
    "                        'W':w,\n",
    "                        'H':h, \n",
    "                        'Confidence':img_data['conf'][index_num],\n",
    "                        'Text':img_data['text'][index_num]}\n",
    "                    total_features.append(features)\n",
    "                    count+=1\n",
    "                except:\n",
    "                    pass\n",
    "        directory_index += 1\n",
    "    \n",
    "    print('getting dataframe....')\n",
    "    df = pd.DataFrame(total_features)\n",
    "    return df"
   ]
  }
 ],
 "metadata": {
  "kernelspec": {
   "display_name": "Python 3",
   "language": "python",
   "name": "python3"
  },
  "language_info": {
   "codemirror_mode": {
    "name": "ipython",
    "version": 3
   },
   "file_extension": ".py",
   "mimetype": "text/x-python",
   "name": "python",
   "nbconvert_exporter": "python",
   "pygments_lexer": "ipython3",
   "version": "3.7.4"
  }
 },
 "nbformat": 4,
 "nbformat_minor": 4
}
